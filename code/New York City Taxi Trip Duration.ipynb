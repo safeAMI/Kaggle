{
 "cells": [
  {
   "cell_type": "code",
   "execution_count": 1,
   "id": "463b0c4f",
   "metadata": {},
   "outputs": [],
   "source": [
    "import numpy as np\n",
    "import pandas as pd"
   ]
  },
  {
   "cell_type": "code",
   "execution_count": 2,
   "id": "764916a7",
   "metadata": {},
   "outputs": [],
   "source": [
    "train_df = pd.read_csv(\"../data/train.csv\", index_col = 0)\n",
    "test_df = pd.read_csv(\"../data/test.csv\", index_col = 0)"
   ]
  },
  {
   "cell_type": "code",
   "execution_count": 3,
   "id": "running-andorra",
   "metadata": {},
   "outputs": [],
   "source": [
    "#import pandas_profiling as ppf\n",
    "#ppf.ProfileReport(train_df)"
   ]
  },
  {
   "cell_type": "code",
   "execution_count": 4,
   "id": "efe9caec",
   "metadata": {},
   "outputs": [
    {
     "data": {
      "text/html": [
       "<div>\n",
       "<style scoped>\n",
       "    .dataframe tbody tr th:only-of-type {\n",
       "        vertical-align: middle;\n",
       "    }\n",
       "\n",
       "    .dataframe tbody tr th {\n",
       "        vertical-align: top;\n",
       "    }\n",
       "\n",
       "    .dataframe thead th {\n",
       "        text-align: right;\n",
       "    }\n",
       "</style>\n",
       "<table border=\"1\" class=\"dataframe\">\n",
       "  <thead>\n",
       "    <tr style=\"text-align: right;\">\n",
       "      <th></th>\n",
       "      <th>vendor_id</th>\n",
       "      <th>pickup_datetime</th>\n",
       "      <th>dropoff_datetime</th>\n",
       "      <th>passenger_count</th>\n",
       "      <th>pickup_longitude</th>\n",
       "      <th>pickup_latitude</th>\n",
       "      <th>dropoff_longitude</th>\n",
       "      <th>dropoff_latitude</th>\n",
       "      <th>store_and_fwd_flag</th>\n",
       "      <th>trip_duration</th>\n",
       "    </tr>\n",
       "    <tr>\n",
       "      <th>id</th>\n",
       "      <th></th>\n",
       "      <th></th>\n",
       "      <th></th>\n",
       "      <th></th>\n",
       "      <th></th>\n",
       "      <th></th>\n",
       "      <th></th>\n",
       "      <th></th>\n",
       "      <th></th>\n",
       "      <th></th>\n",
       "    </tr>\n",
       "  </thead>\n",
       "  <tbody>\n",
       "    <tr>\n",
       "      <th>id2875421</th>\n",
       "      <td>2</td>\n",
       "      <td>2016-03-14 17:24:55</td>\n",
       "      <td>2016-03-14 17:32:30</td>\n",
       "      <td>1</td>\n",
       "      <td>-73.982155</td>\n",
       "      <td>40.767937</td>\n",
       "      <td>-73.964630</td>\n",
       "      <td>40.765602</td>\n",
       "      <td>N</td>\n",
       "      <td>455</td>\n",
       "    </tr>\n",
       "    <tr>\n",
       "      <th>id2377394</th>\n",
       "      <td>1</td>\n",
       "      <td>2016-06-12 00:43:35</td>\n",
       "      <td>2016-06-12 00:54:38</td>\n",
       "      <td>1</td>\n",
       "      <td>-73.980415</td>\n",
       "      <td>40.738564</td>\n",
       "      <td>-73.999481</td>\n",
       "      <td>40.731152</td>\n",
       "      <td>N</td>\n",
       "      <td>663</td>\n",
       "    </tr>\n",
       "    <tr>\n",
       "      <th>id3858529</th>\n",
       "      <td>2</td>\n",
       "      <td>2016-01-19 11:35:24</td>\n",
       "      <td>2016-01-19 12:10:48</td>\n",
       "      <td>1</td>\n",
       "      <td>-73.979027</td>\n",
       "      <td>40.763939</td>\n",
       "      <td>-74.005333</td>\n",
       "      <td>40.710087</td>\n",
       "      <td>N</td>\n",
       "      <td>2124</td>\n",
       "    </tr>\n",
       "    <tr>\n",
       "      <th>id3504673</th>\n",
       "      <td>2</td>\n",
       "      <td>2016-04-06 19:32:31</td>\n",
       "      <td>2016-04-06 19:39:40</td>\n",
       "      <td>1</td>\n",
       "      <td>-74.010040</td>\n",
       "      <td>40.719971</td>\n",
       "      <td>-74.012268</td>\n",
       "      <td>40.706718</td>\n",
       "      <td>N</td>\n",
       "      <td>429</td>\n",
       "    </tr>\n",
       "    <tr>\n",
       "      <th>id2181028</th>\n",
       "      <td>2</td>\n",
       "      <td>2016-03-26 13:30:55</td>\n",
       "      <td>2016-03-26 13:38:10</td>\n",
       "      <td>1</td>\n",
       "      <td>-73.973053</td>\n",
       "      <td>40.793209</td>\n",
       "      <td>-73.972923</td>\n",
       "      <td>40.782520</td>\n",
       "      <td>N</td>\n",
       "      <td>435</td>\n",
       "    </tr>\n",
       "    <tr>\n",
       "      <th>id0801584</th>\n",
       "      <td>2</td>\n",
       "      <td>2016-01-30 22:01:40</td>\n",
       "      <td>2016-01-30 22:09:03</td>\n",
       "      <td>6</td>\n",
       "      <td>-73.982857</td>\n",
       "      <td>40.742195</td>\n",
       "      <td>-73.992081</td>\n",
       "      <td>40.749184</td>\n",
       "      <td>N</td>\n",
       "      <td>443</td>\n",
       "    </tr>\n",
       "    <tr>\n",
       "      <th>id1813257</th>\n",
       "      <td>1</td>\n",
       "      <td>2016-06-17 22:34:59</td>\n",
       "      <td>2016-06-17 22:40:40</td>\n",
       "      <td>4</td>\n",
       "      <td>-73.969017</td>\n",
       "      <td>40.757839</td>\n",
       "      <td>-73.957405</td>\n",
       "      <td>40.765896</td>\n",
       "      <td>N</td>\n",
       "      <td>341</td>\n",
       "    </tr>\n",
       "    <tr>\n",
       "      <th>id1324603</th>\n",
       "      <td>2</td>\n",
       "      <td>2016-05-21 07:54:58</td>\n",
       "      <td>2016-05-21 08:20:49</td>\n",
       "      <td>1</td>\n",
       "      <td>-73.969276</td>\n",
       "      <td>40.797779</td>\n",
       "      <td>-73.922470</td>\n",
       "      <td>40.760559</td>\n",
       "      <td>N</td>\n",
       "      <td>1551</td>\n",
       "    </tr>\n",
       "    <tr>\n",
       "      <th>id1301050</th>\n",
       "      <td>1</td>\n",
       "      <td>2016-05-27 23:12:23</td>\n",
       "      <td>2016-05-27 23:16:38</td>\n",
       "      <td>1</td>\n",
       "      <td>-73.999481</td>\n",
       "      <td>40.738400</td>\n",
       "      <td>-73.985786</td>\n",
       "      <td>40.732815</td>\n",
       "      <td>N</td>\n",
       "      <td>255</td>\n",
       "    </tr>\n",
       "    <tr>\n",
       "      <th>id0012891</th>\n",
       "      <td>2</td>\n",
       "      <td>2016-03-10 21:45:01</td>\n",
       "      <td>2016-03-10 22:05:26</td>\n",
       "      <td>1</td>\n",
       "      <td>-73.981049</td>\n",
       "      <td>40.744339</td>\n",
       "      <td>-73.973000</td>\n",
       "      <td>40.789989</td>\n",
       "      <td>N</td>\n",
       "      <td>1225</td>\n",
       "    </tr>\n",
       "  </tbody>\n",
       "</table>\n",
       "</div>"
      ],
      "text/plain": [
       "           vendor_id      pickup_datetime     dropoff_datetime  \\\n",
       "id                                                               \n",
       "id2875421          2  2016-03-14 17:24:55  2016-03-14 17:32:30   \n",
       "id2377394          1  2016-06-12 00:43:35  2016-06-12 00:54:38   \n",
       "id3858529          2  2016-01-19 11:35:24  2016-01-19 12:10:48   \n",
       "id3504673          2  2016-04-06 19:32:31  2016-04-06 19:39:40   \n",
       "id2181028          2  2016-03-26 13:30:55  2016-03-26 13:38:10   \n",
       "id0801584          2  2016-01-30 22:01:40  2016-01-30 22:09:03   \n",
       "id1813257          1  2016-06-17 22:34:59  2016-06-17 22:40:40   \n",
       "id1324603          2  2016-05-21 07:54:58  2016-05-21 08:20:49   \n",
       "id1301050          1  2016-05-27 23:12:23  2016-05-27 23:16:38   \n",
       "id0012891          2  2016-03-10 21:45:01  2016-03-10 22:05:26   \n",
       "\n",
       "           passenger_count  pickup_longitude  pickup_latitude  \\\n",
       "id                                                              \n",
       "id2875421                1        -73.982155        40.767937   \n",
       "id2377394                1        -73.980415        40.738564   \n",
       "id3858529                1        -73.979027        40.763939   \n",
       "id3504673                1        -74.010040        40.719971   \n",
       "id2181028                1        -73.973053        40.793209   \n",
       "id0801584                6        -73.982857        40.742195   \n",
       "id1813257                4        -73.969017        40.757839   \n",
       "id1324603                1        -73.969276        40.797779   \n",
       "id1301050                1        -73.999481        40.738400   \n",
       "id0012891                1        -73.981049        40.744339   \n",
       "\n",
       "           dropoff_longitude  dropoff_latitude store_and_fwd_flag  \\\n",
       "id                                                                  \n",
       "id2875421         -73.964630         40.765602                  N   \n",
       "id2377394         -73.999481         40.731152                  N   \n",
       "id3858529         -74.005333         40.710087                  N   \n",
       "id3504673         -74.012268         40.706718                  N   \n",
       "id2181028         -73.972923         40.782520                  N   \n",
       "id0801584         -73.992081         40.749184                  N   \n",
       "id1813257         -73.957405         40.765896                  N   \n",
       "id1324603         -73.922470         40.760559                  N   \n",
       "id1301050         -73.985786         40.732815                  N   \n",
       "id0012891         -73.973000         40.789989                  N   \n",
       "\n",
       "           trip_duration  \n",
       "id                        \n",
       "id2875421            455  \n",
       "id2377394            663  \n",
       "id3858529           2124  \n",
       "id3504673            429  \n",
       "id2181028            435  \n",
       "id0801584            443  \n",
       "id1813257            341  \n",
       "id1324603           1551  \n",
       "id1301050            255  \n",
       "id0012891           1225  "
      ]
     },
     "execution_count": 4,
     "metadata": {},
     "output_type": "execute_result"
    }
   ],
   "source": [
    "train_df.head(10)"
   ]
  },
  {
   "cell_type": "code",
   "execution_count": 5,
   "id": "aaba9572",
   "metadata": {},
   "outputs": [
    {
     "data": {
      "text/html": [
       "<div>\n",
       "<style scoped>\n",
       "    .dataframe tbody tr th:only-of-type {\n",
       "        vertical-align: middle;\n",
       "    }\n",
       "\n",
       "    .dataframe tbody tr th {\n",
       "        vertical-align: top;\n",
       "    }\n",
       "\n",
       "    .dataframe thead th {\n",
       "        text-align: right;\n",
       "    }\n",
       "</style>\n",
       "<table border=\"1\" class=\"dataframe\">\n",
       "  <thead>\n",
       "    <tr style=\"text-align: right;\">\n",
       "      <th></th>\n",
       "      <th>vendor_id</th>\n",
       "      <th>pickup_datetime</th>\n",
       "      <th>passenger_count</th>\n",
       "      <th>pickup_longitude</th>\n",
       "      <th>pickup_latitude</th>\n",
       "      <th>dropoff_longitude</th>\n",
       "      <th>dropoff_latitude</th>\n",
       "      <th>store_and_fwd_flag</th>\n",
       "    </tr>\n",
       "    <tr>\n",
       "      <th>id</th>\n",
       "      <th></th>\n",
       "      <th></th>\n",
       "      <th></th>\n",
       "      <th></th>\n",
       "      <th></th>\n",
       "      <th></th>\n",
       "      <th></th>\n",
       "      <th></th>\n",
       "    </tr>\n",
       "  </thead>\n",
       "  <tbody>\n",
       "    <tr>\n",
       "      <th>id3004672</th>\n",
       "      <td>1</td>\n",
       "      <td>2016-06-30 23:59:58</td>\n",
       "      <td>1</td>\n",
       "      <td>-73.988129</td>\n",
       "      <td>40.732029</td>\n",
       "      <td>-73.990173</td>\n",
       "      <td>40.756680</td>\n",
       "      <td>N</td>\n",
       "    </tr>\n",
       "    <tr>\n",
       "      <th>id3505355</th>\n",
       "      <td>1</td>\n",
       "      <td>2016-06-30 23:59:53</td>\n",
       "      <td>1</td>\n",
       "      <td>-73.964203</td>\n",
       "      <td>40.679993</td>\n",
       "      <td>-73.959808</td>\n",
       "      <td>40.655403</td>\n",
       "      <td>N</td>\n",
       "    </tr>\n",
       "    <tr>\n",
       "      <th>id1217141</th>\n",
       "      <td>1</td>\n",
       "      <td>2016-06-30 23:59:47</td>\n",
       "      <td>1</td>\n",
       "      <td>-73.997437</td>\n",
       "      <td>40.737583</td>\n",
       "      <td>-73.986160</td>\n",
       "      <td>40.729523</td>\n",
       "      <td>N</td>\n",
       "    </tr>\n",
       "    <tr>\n",
       "      <th>id2150126</th>\n",
       "      <td>2</td>\n",
       "      <td>2016-06-30 23:59:41</td>\n",
       "      <td>1</td>\n",
       "      <td>-73.956070</td>\n",
       "      <td>40.771900</td>\n",
       "      <td>-73.986427</td>\n",
       "      <td>40.730469</td>\n",
       "      <td>N</td>\n",
       "    </tr>\n",
       "    <tr>\n",
       "      <th>id1598245</th>\n",
       "      <td>1</td>\n",
       "      <td>2016-06-30 23:59:33</td>\n",
       "      <td>1</td>\n",
       "      <td>-73.970215</td>\n",
       "      <td>40.761475</td>\n",
       "      <td>-73.961510</td>\n",
       "      <td>40.755890</td>\n",
       "      <td>N</td>\n",
       "    </tr>\n",
       "  </tbody>\n",
       "</table>\n",
       "</div>"
      ],
      "text/plain": [
       "           vendor_id      pickup_datetime  passenger_count  pickup_longitude  \\\n",
       "id                                                                             \n",
       "id3004672          1  2016-06-30 23:59:58                1        -73.988129   \n",
       "id3505355          1  2016-06-30 23:59:53                1        -73.964203   \n",
       "id1217141          1  2016-06-30 23:59:47                1        -73.997437   \n",
       "id2150126          2  2016-06-30 23:59:41                1        -73.956070   \n",
       "id1598245          1  2016-06-30 23:59:33                1        -73.970215   \n",
       "\n",
       "           pickup_latitude  dropoff_longitude  dropoff_latitude  \\\n",
       "id                                                                \n",
       "id3004672        40.732029         -73.990173         40.756680   \n",
       "id3505355        40.679993         -73.959808         40.655403   \n",
       "id1217141        40.737583         -73.986160         40.729523   \n",
       "id2150126        40.771900         -73.986427         40.730469   \n",
       "id1598245        40.761475         -73.961510         40.755890   \n",
       "\n",
       "          store_and_fwd_flag  \n",
       "id                            \n",
       "id3004672                  N  \n",
       "id3505355                  N  \n",
       "id1217141                  N  \n",
       "id2150126                  N  \n",
       "id1598245                  N  "
      ]
     },
     "execution_count": 5,
     "metadata": {},
     "output_type": "execute_result"
    }
   ],
   "source": [
    "test_df.head()"
   ]
  },
  {
   "cell_type": "code",
   "execution_count": 6,
   "id": "1289edb4",
   "metadata": {},
   "outputs": [
    {
     "data": {
      "text/plain": [
       "array([[<AxesSubplot:title={'center':'trip_duration'}>,\n",
       "        <AxesSubplot:title={'center':'log(trip_duration + 1)'}>]],\n",
       "      dtype=object)"
      ]
     },
     "execution_count": 6,
     "metadata": {},
     "output_type": "execute_result"
    },
    {
     "data": {
      "image/png": "[encoded data removed]",
      "text/plain": [
       "<Figure size 432x288 with 2 Axes>"
      ]
     },
     "metadata": {
      "needs_background": "light"
     },
     "output_type": "display_data"
    }
   ],
   "source": [
    "%matplotlib inline\n",
    "trip_duration = pd.DataFrame({\"trip_duration\":train_df[\"trip_duration\"], \"log(trip_duration + 1)\":np.log1p(train_df[\"trip_duration\"])})\n",
    "trip_duration.hist()"
   ]
  },
  {
   "cell_type": "code",
   "execution_count": 7,
   "id": "ecd32420",
   "metadata": {},
   "outputs": [],
   "source": [
    "y_train = np.log1p(train_df.pop('trip_duration'))"
   ]
  },
  {
   "cell_type": "code",
   "execution_count": 8,
   "id": "5b074a62",
   "metadata": {},
   "outputs": [
    {
     "data": {
      "text/plain": [
       "id\n",
       "id2875421    2016-03-14 17:32:30\n",
       "id2377394    2016-06-12 00:54:38\n",
       "id3858529    2016-01-19 12:10:48\n",
       "id3504673    2016-04-06 19:39:40\n",
       "id2181028    2016-03-26 13:38:10\n",
       "                    ...         \n",
       "id2376096    2016-04-08 13:44:02\n",
       "id1049543    2016-01-10 07:46:10\n",
       "id2304944    2016-04-22 07:10:25\n",
       "id2714485    2016-01-05 16:02:39\n",
       "id1209952    2016-04-05 14:47:43\n",
       "Name: dropoff_datetime, Length: 1458644, dtype: object"
      ]
     },
     "execution_count": 8,
     "metadata": {},
     "output_type": "execute_result"
    }
   ],
   "source": [
    "train_df.pop(\"dropoff_datetime\")"
   ]
  },
  {
   "cell_type": "code",
   "execution_count": 9,
   "id": "abb0db14",
   "metadata": {},
   "outputs": [],
   "source": [
    "#train_df.shape, test_df.shape"
   ]
  },
  {
   "cell_type": "code",
   "execution_count": 10,
   "id": "f9845bdd",
   "metadata": {},
   "outputs": [],
   "source": [
    "all_df = pd.concat((train_df,test_df), axis=0)"
   ]
  },
  {
   "cell_type": "code",
   "execution_count": 11,
   "id": "6e5398f2",
   "metadata": {},
   "outputs": [],
   "source": [
    "all_df['vendor_id'].value_counts()\n",
    "all_df['pickup_datetime'] = all_df['pickup_datetime'].astype(str)\n",
    "all_df['vendor_id'] = all_df['vendor_id'].astype(str)"
   ]
  },
  {
   "cell_type": "code",
   "execution_count": 12,
   "id": "97ef5b36",
   "metadata": {},
   "outputs": [
    {
     "data": {
      "text/plain": [
       "id\n",
       "id2875421    2016-03-14 17:24:55\n",
       "id2377394    2016-06-12 00:43:35\n",
       "id3858529    2016-01-19 11:35:24\n",
       "id3504673    2016-04-06 19:32:31\n",
       "id2181028    2016-03-26 13:30:55\n",
       "                    ...         \n",
       "id3008929    2016-01-01 00:02:52\n",
       "id3700764    2016-01-01 00:01:52\n",
       "id2568735    2016-01-01 00:01:24\n",
       "id1384355    2016-01-01 00:00:28\n",
       "id0621643    2016-01-01 00:00:22\n",
       "Name: pickup_datetime, Length: 2083778, dtype: object"
      ]
     },
     "execution_count": 12,
     "metadata": {},
     "output_type": "execute_result"
    }
   ],
   "source": [
    "all_df[\"pickup_datetime\"]"
   ]
  },
  {
   "cell_type": "code",
   "execution_count": 13,
   "id": "2e162404",
   "metadata": {},
   "outputs": [],
   "source": [
    "new_cols = all_df['pickup_datetime'].str.split(' ', 2, True)"
   ]
  },
  {
   "cell_type": "code",
   "execution_count": 14,
   "id": "cd0e3bd4",
   "metadata": {},
   "outputs": [],
   "source": [
    "new_cols.columns = [\"date\", \"time\"]"
   ]
  },
  {
   "cell_type": "code",
   "execution_count": 15,
   "id": "61156e21",
   "metadata": {},
   "outputs": [
    {
     "data": {
      "text/html": [
       "<div>\n",
       "<style scoped>\n",
       "    .dataframe tbody tr th:only-of-type {\n",
       "        vertical-align: middle;\n",
       "    }\n",
       "\n",
       "    .dataframe tbody tr th {\n",
       "        vertical-align: top;\n",
       "    }\n",
       "\n",
       "    .dataframe thead th {\n",
       "        text-align: right;\n",
       "    }\n",
       "</style>\n",
       "<table border=\"1\" class=\"dataframe\">\n",
       "  <thead>\n",
       "    <tr style=\"text-align: right;\">\n",
       "      <th></th>\n",
       "      <th>date</th>\n",
       "      <th>time</th>\n",
       "    </tr>\n",
       "    <tr>\n",
       "      <th>id</th>\n",
       "      <th></th>\n",
       "      <th></th>\n",
       "    </tr>\n",
       "  </thead>\n",
       "  <tbody>\n",
       "    <tr>\n",
       "      <th>id2875421</th>\n",
       "      <td>2016-03-14</td>\n",
       "      <td>17:24:55</td>\n",
       "    </tr>\n",
       "    <tr>\n",
       "      <th>id2377394</th>\n",
       "      <td>2016-06-12</td>\n",
       "      <td>00:43:35</td>\n",
       "    </tr>\n",
       "    <tr>\n",
       "      <th>id3858529</th>\n",
       "      <td>2016-01-19</td>\n",
       "      <td>11:35:24</td>\n",
       "    </tr>\n",
       "    <tr>\n",
       "      <th>id3504673</th>\n",
       "      <td>2016-04-06</td>\n",
       "      <td>19:32:31</td>\n",
       "    </tr>\n",
       "    <tr>\n",
       "      <th>id2181028</th>\n",
       "      <td>2016-03-26</td>\n",
       "      <td>13:30:55</td>\n",
       "    </tr>\n",
       "    <tr>\n",
       "      <th>...</th>\n",
       "      <td>...</td>\n",
       "      <td>...</td>\n",
       "    </tr>\n",
       "    <tr>\n",
       "      <th>id3008929</th>\n",
       "      <td>2016-01-01</td>\n",
       "      <td>00:02:52</td>\n",
       "    </tr>\n",
       "    <tr>\n",
       "      <th>id3700764</th>\n",
       "      <td>2016-01-01</td>\n",
       "      <td>00:01:52</td>\n",
       "    </tr>\n",
       "    <tr>\n",
       "      <th>id2568735</th>\n",
       "      <td>2016-01-01</td>\n",
       "      <td>00:01:24</td>\n",
       "    </tr>\n",
       "    <tr>\n",
       "      <th>id1384355</th>\n",
       "      <td>2016-01-01</td>\n",
       "      <td>00:00:28</td>\n",
       "    </tr>\n",
       "    <tr>\n",
       "      <th>id0621643</th>\n",
       "      <td>2016-01-01</td>\n",
       "      <td>00:00:22</td>\n",
       "    </tr>\n",
       "  </tbody>\n",
       "</table>\n",
       "<p>2083778 rows × 2 columns</p>\n",
       "</div>"
      ],
      "text/plain": [
       "                 date      time\n",
       "id                             \n",
       "id2875421  2016-03-14  17:24:55\n",
       "id2377394  2016-06-12  00:43:35\n",
       "id3858529  2016-01-19  11:35:24\n",
       "id3504673  2016-04-06  19:32:31\n",
       "id2181028  2016-03-26  13:30:55\n",
       "...               ...       ...\n",
       "id3008929  2016-01-01  00:02:52\n",
       "id3700764  2016-01-01  00:01:52\n",
       "id2568735  2016-01-01  00:01:24\n",
       "id1384355  2016-01-01  00:00:28\n",
       "id0621643  2016-01-01  00:00:22\n",
       "\n",
       "[2083778 rows x 2 columns]"
      ]
     },
     "execution_count": 15,
     "metadata": {},
     "output_type": "execute_result"
    }
   ],
   "source": [
    "new_cols"
   ]
  },
  {
   "cell_type": "code",
   "execution_count": 16,
   "id": "f6428e16",
   "metadata": {},
   "outputs": [
    {
     "data": {
      "text/plain": [
       "id\n",
       "id2875421    2016-03-14 17:24:55\n",
       "id2377394    2016-06-12 00:43:35\n",
       "id3858529    2016-01-19 11:35:24\n",
       "id3504673    2016-04-06 19:32:31\n",
       "id2181028    2016-03-26 13:30:55\n",
       "                    ...         \n",
       "id3008929    2016-01-01 00:02:52\n",
       "id3700764    2016-01-01 00:01:52\n",
       "id2568735    2016-01-01 00:01:24\n",
       "id1384355    2016-01-01 00:00:28\n",
       "id0621643    2016-01-01 00:00:22\n",
       "Name: pickup_datetime, Length: 2083778, dtype: object"
      ]
     },
     "execution_count": 16,
     "metadata": {},
     "output_type": "execute_result"
    }
   ],
   "source": [
    "all_df.pop(\"pickup_datetime\")"
   ]
  },
  {
   "cell_type": "code",
   "execution_count": 17,
   "id": "004f4777",
   "metadata": {},
   "outputs": [],
   "source": [
    "new_time = new_cols[\"time\"].str.split(':', 3, True)"
   ]
  },
  {
   "cell_type": "code",
   "execution_count": 18,
   "id": "fdb6520f",
   "metadata": {},
   "outputs": [],
   "source": [
    "new_time.columns = [\"hour\",\"minute\",\"second\"]"
   ]
  },
  {
   "cell_type": "code",
   "execution_count": 19,
   "id": "37cb9a26",
   "metadata": {},
   "outputs": [
    {
     "data": {
      "text/html": [
       "<div>\n",
       "<style scoped>\n",
       "    .dataframe tbody tr th:only-of-type {\n",
       "        vertical-align: middle;\n",
       "    }\n",
       "\n",
       "    .dataframe tbody tr th {\n",
       "        vertical-align: top;\n",
       "    }\n",
       "\n",
       "    .dataframe thead th {\n",
       "        text-align: right;\n",
       "    }\n",
       "</style>\n",
       "<table border=\"1\" class=\"dataframe\">\n",
       "  <thead>\n",
       "    <tr style=\"text-align: right;\">\n",
       "      <th></th>\n",
       "      <th>hour</th>\n",
       "      <th>minute</th>\n",
       "      <th>second</th>\n",
       "    </tr>\n",
       "    <tr>\n",
       "      <th>id</th>\n",
       "      <th></th>\n",
       "      <th></th>\n",
       "      <th></th>\n",
       "    </tr>\n",
       "  </thead>\n",
       "  <tbody>\n",
       "    <tr>\n",
       "      <th>id2875421</th>\n",
       "      <td>17</td>\n",
       "      <td>24</td>\n",
       "      <td>55</td>\n",
       "    </tr>\n",
       "    <tr>\n",
       "      <th>id2377394</th>\n",
       "      <td>00</td>\n",
       "      <td>43</td>\n",
       "      <td>35</td>\n",
       "    </tr>\n",
       "    <tr>\n",
       "      <th>id3858529</th>\n",
       "      <td>11</td>\n",
       "      <td>35</td>\n",
       "      <td>24</td>\n",
       "    </tr>\n",
       "    <tr>\n",
       "      <th>id3504673</th>\n",
       "      <td>19</td>\n",
       "      <td>32</td>\n",
       "      <td>31</td>\n",
       "    </tr>\n",
       "    <tr>\n",
       "      <th>id2181028</th>\n",
       "      <td>13</td>\n",
       "      <td>30</td>\n",
       "      <td>55</td>\n",
       "    </tr>\n",
       "    <tr>\n",
       "      <th>...</th>\n",
       "      <td>...</td>\n",
       "      <td>...</td>\n",
       "      <td>...</td>\n",
       "    </tr>\n",
       "    <tr>\n",
       "      <th>id3008929</th>\n",
       "      <td>00</td>\n",
       "      <td>02</td>\n",
       "      <td>52</td>\n",
       "    </tr>\n",
       "    <tr>\n",
       "      <th>id3700764</th>\n",
       "      <td>00</td>\n",
       "      <td>01</td>\n",
       "      <td>52</td>\n",
       "    </tr>\n",
       "    <tr>\n",
       "      <th>id2568735</th>\n",
       "      <td>00</td>\n",
       "      <td>01</td>\n",
       "      <td>24</td>\n",
       "    </tr>\n",
       "    <tr>\n",
       "      <th>id1384355</th>\n",
       "      <td>00</td>\n",
       "      <td>00</td>\n",
       "      <td>28</td>\n",
       "    </tr>\n",
       "    <tr>\n",
       "      <th>id0621643</th>\n",
       "      <td>00</td>\n",
       "      <td>00</td>\n",
       "      <td>22</td>\n",
       "    </tr>\n",
       "  </tbody>\n",
       "</table>\n",
       "<p>2083778 rows × 3 columns</p>\n",
       "</div>"
      ],
      "text/plain": [
       "          hour minute second\n",
       "id                          \n",
       "id2875421   17     24     55\n",
       "id2377394   00     43     35\n",
       "id3858529   11     35     24\n",
       "id3504673   19     32     31\n",
       "id2181028   13     30     55\n",
       "...        ...    ...    ...\n",
       "id3008929   00     02     52\n",
       "id3700764   00     01     52\n",
       "id2568735   00     01     24\n",
       "id1384355   00     00     28\n",
       "id0621643   00     00     22\n",
       "\n",
       "[2083778 rows x 3 columns]"
      ]
     },
     "execution_count": 19,
     "metadata": {},
     "output_type": "execute_result"
    }
   ],
   "source": [
    "new_time"
   ]
  },
  {
   "cell_type": "code",
   "execution_count": 20,
   "id": "264510c8",
   "metadata": {},
   "outputs": [],
   "source": [
    "new_date = new_cols[\"date\"].str.split('-', 3, True)\n",
    "new_date.columns = [\"year\",\"month\",\"day\"]"
   ]
  },
  {
   "cell_type": "code",
   "execution_count": 21,
   "id": "7b4475f7",
   "metadata": {},
   "outputs": [
    {
     "data": {
      "text/plain": [
       "(           year month day\n",
       " id                       \n",
       " id2875421  2016    03  14\n",
       " id2377394  2016    06  12\n",
       " id3858529  2016    01  19\n",
       " id3504673  2016    04  06\n",
       " id2181028  2016    03  26\n",
       " ...         ...   ...  ..\n",
       " id3008929  2016    01  01\n",
       " id3700764  2016    01  01\n",
       " id2568735  2016    01  01\n",
       " id1384355  2016    01  01\n",
       " id0621643  2016    01  01\n",
       " \n",
       " [2083778 rows x 3 columns],           hour minute second\n",
       " id                          \n",
       " id2875421   17     24     55\n",
       " id2377394   00     43     35\n",
       " id3858529   11     35     24\n",
       " id3504673   19     32     31\n",
       " id2181028   13     30     55\n",
       " ...        ...    ...    ...\n",
       " id3008929   00     02     52\n",
       " id3700764   00     01     52\n",
       " id2568735   00     01     24\n",
       " id1384355   00     00     28\n",
       " id0621643   00     00     22\n",
       " \n",
       " [2083778 rows x 3 columns])"
      ]
     },
     "execution_count": 21,
     "metadata": {},
     "output_type": "execute_result"
    }
   ],
   "source": [
    "new_date, new_time"
   ]
  },
  {
   "cell_type": "code",
   "execution_count": 22,
   "id": "556a549e",
   "metadata": {},
   "outputs": [
    {
     "data": {
      "text/plain": [
       "id\n",
       "id2875421    N\n",
       "id2377394    N\n",
       "id3858529    N\n",
       "id3504673    N\n",
       "id2181028    N\n",
       "            ..\n",
       "id3008929    N\n",
       "id3700764    N\n",
       "id2568735    N\n",
       "id1384355    N\n",
       "id0621643    N\n",
       "Name: store_and_fwd_flag, Length: 2083778, dtype: object"
      ]
     },
     "execution_count": 22,
     "metadata": {},
     "output_type": "execute_result"
    }
   ],
   "source": [
    "all_df.pop(\"vendor_id\")\n",
    "all_df.pop(\"passenger_count\")\n",
    "all_df.pop(\"pickup_longitude\")\n",
    "all_df.pop(\"dropoff_longitude\")\n",
    "all_df.pop(\"store_and_fwd_flag\")"
   ]
  },
  {
   "cell_type": "code",
   "execution_count": 23,
   "id": "0d28d811",
   "metadata": {},
   "outputs": [
    {
     "data": {
      "text/plain": [
       "dropoff_latitude    0\n",
       "pickup_latitude     0\n",
       "dtype: int64"
      ]
     },
     "execution_count": 23,
     "metadata": {},
     "output_type": "execute_result"
    }
   ],
   "source": [
    "all_df.isnull().sum().sort_values(ascending=False).head(10) #无缺失值"
   ]
  },
  {
   "cell_type": "code",
   "execution_count": 24,
   "id": "bddfa975",
   "metadata": {},
   "outputs": [],
   "source": [
    "#all_df['store_and_fwd_flag'].dtypes"
   ]
  },
  {
   "cell_type": "code",
   "execution_count": 25,
   "id": "ec5989b6",
   "metadata": {},
   "outputs": [],
   "source": [
    "#all_df_pt = pd.concat((all_df,new_time), axis=1)"
   ]
  },
  {
   "cell_type": "code",
   "execution_count": 26,
   "id": "c2e13d10",
   "metadata": {},
   "outputs": [],
   "source": [
    "#all_df_pt = pd.concat((all_df,new_date), axis=1)"
   ]
  },
  {
   "cell_type": "code",
   "execution_count": 27,
   "id": "8dcce2ac",
   "metadata": {},
   "outputs": [],
   "source": [
    "#all_df_pt.pop(\"year\")"
   ]
  },
  {
   "cell_type": "code",
   "execution_count": 28,
   "id": "45e728b6",
   "metadata": {},
   "outputs": [],
   "source": [
    "#all_df_pt"
   ]
  },
  {
   "cell_type": "code",
   "execution_count": 29,
   "id": "3c4c0e61",
   "metadata": {},
   "outputs": [],
   "source": [
    "#all_new_datetime = pd.concat((new_date,new_time), axis=1)"
   ]
  },
  {
   "cell_type": "code",
   "execution_count": 30,
   "id": "cc92cd87",
   "metadata": {},
   "outputs": [],
   "source": [
    "#all_new_datetime"
   ]
  },
  {
   "cell_type": "code",
   "execution_count": 31,
   "id": "dd59b381",
   "metadata": {},
   "outputs": [],
   "source": [
    "#all_df_pt = pd.concat((all_df,all_new_datetime), axis=1)"
   ]
  },
  {
   "cell_type": "code",
   "execution_count": 32,
   "id": "6a0d77d9",
   "metadata": {},
   "outputs": [],
   "source": [
    "#all_df_pt"
   ]
  },
  {
   "cell_type": "code",
   "execution_count": 33,
   "id": "2777d24d",
   "metadata": {},
   "outputs": [],
   "source": [
    "#all_df_pt.pop('year')"
   ]
  },
  {
   "cell_type": "code",
   "execution_count": 34,
   "id": "ddd2ffda",
   "metadata": {},
   "outputs": [],
   "source": [
    "#all_df_pt['month'].dtype"
   ]
  },
  {
   "cell_type": "code",
   "execution_count": 35,
   "id": "e4a178c0",
   "metadata": {},
   "outputs": [],
   "source": [
    "#all_df_pt['month'] = all_df_pt['month'].astype(str)\n",
    "#all_df_pt['month'].value_counts()"
   ]
  },
  {
   "cell_type": "code",
   "execution_count": 36,
   "id": "419ecb99",
   "metadata": {},
   "outputs": [],
   "source": [
    "#pd.get_dummies(all_df_pt['month'], prefix='month').head()\n",
    "#all_dummy_df = pd.get_dummies(all_df_pt)\n",
    "#all_dummy_df.head()"
   ]
  },
  {
   "cell_type": "code",
   "execution_count": 37,
   "id": "banned-highland",
   "metadata": {},
   "outputs": [
    {
     "data": {
      "text/html": [
       "<div>\n",
       "<style scoped>\n",
       "    .dataframe tbody tr th:only-of-type {\n",
       "        vertical-align: middle;\n",
       "    }\n",
       "\n",
       "    .dataframe tbody tr th {\n",
       "        vertical-align: top;\n",
       "    }\n",
       "\n",
       "    .dataframe thead th {\n",
       "        text-align: right;\n",
       "    }\n",
       "</style>\n",
       "<table border=\"1\" class=\"dataframe\">\n",
       "  <thead>\n",
       "    <tr style=\"text-align: right;\">\n",
       "      <th></th>\n",
       "      <th>pickup_latitude</th>\n",
       "      <th>dropoff_latitude</th>\n",
       "    </tr>\n",
       "    <tr>\n",
       "      <th>id</th>\n",
       "      <th></th>\n",
       "      <th></th>\n",
       "    </tr>\n",
       "  </thead>\n",
       "  <tbody>\n",
       "    <tr>\n",
       "      <th>id2875421</th>\n",
       "      <td>40.767937</td>\n",
       "      <td>40.765602</td>\n",
       "    </tr>\n",
       "    <tr>\n",
       "      <th>id2377394</th>\n",
       "      <td>40.738564</td>\n",
       "      <td>40.731152</td>\n",
       "    </tr>\n",
       "    <tr>\n",
       "      <th>id3858529</th>\n",
       "      <td>40.763939</td>\n",
       "      <td>40.710087</td>\n",
       "    </tr>\n",
       "    <tr>\n",
       "      <th>id3504673</th>\n",
       "      <td>40.719971</td>\n",
       "      <td>40.706718</td>\n",
       "    </tr>\n",
       "    <tr>\n",
       "      <th>id2181028</th>\n",
       "      <td>40.793209</td>\n",
       "      <td>40.782520</td>\n",
       "    </tr>\n",
       "    <tr>\n",
       "      <th>...</th>\n",
       "      <td>...</td>\n",
       "      <td>...</td>\n",
       "    </tr>\n",
       "    <tr>\n",
       "      <th>id3008929</th>\n",
       "      <td>40.725105</td>\n",
       "      <td>40.733643</td>\n",
       "    </tr>\n",
       "    <tr>\n",
       "      <th>id3700764</th>\n",
       "      <td>40.743782</td>\n",
       "      <td>40.782467</td>\n",
       "    </tr>\n",
       "    <tr>\n",
       "      <th>id2568735</th>\n",
       "      <td>40.759865</td>\n",
       "      <td>40.748665</td>\n",
       "    </tr>\n",
       "    <tr>\n",
       "      <th>id1384355</th>\n",
       "      <td>40.733562</td>\n",
       "      <td>40.891788</td>\n",
       "    </tr>\n",
       "    <tr>\n",
       "      <th>id0621643</th>\n",
       "      <td>40.716881</td>\n",
       "      <td>40.769379</td>\n",
       "    </tr>\n",
       "  </tbody>\n",
       "</table>\n",
       "<p>2083778 rows × 2 columns</p>\n",
       "</div>"
      ],
      "text/plain": [
       "           pickup_latitude  dropoff_latitude\n",
       "id                                          \n",
       "id2875421        40.767937         40.765602\n",
       "id2377394        40.738564         40.731152\n",
       "id3858529        40.763939         40.710087\n",
       "id3504673        40.719971         40.706718\n",
       "id2181028        40.793209         40.782520\n",
       "...                    ...               ...\n",
       "id3008929        40.725105         40.733643\n",
       "id3700764        40.743782         40.782467\n",
       "id2568735        40.759865         40.748665\n",
       "id1384355        40.733562         40.891788\n",
       "id0621643        40.716881         40.769379\n",
       "\n",
       "[2083778 rows x 2 columns]"
      ]
     },
     "execution_count": 37,
     "metadata": {},
     "output_type": "execute_result"
    }
   ],
   "source": [
    "all_df"
   ]
  },
  {
   "cell_type": "code",
   "execution_count": 38,
   "id": "c53b2d3b",
   "metadata": {},
   "outputs": [
    {
     "data": {
      "text/plain": [
       "Index(['pickup_latitude', 'dropoff_latitude'], dtype='object')"
      ]
     },
     "execution_count": 38,
     "metadata": {},
     "output_type": "execute_result"
    }
   ],
   "source": [
    "#标准化数据\n",
    "numeric_cols = all_df.columns[all_df.dtypes != 'object']\n",
    "numeric_cols"
   ]
  },
  {
   "cell_type": "code",
   "execution_count": 39,
   "id": "e391fc11",
   "metadata": {},
   "outputs": [],
   "source": [
    "all_dummy_df=all_df\n",
    "numeric_col_means = all_dummy_df.loc[:, numeric_cols].mean()\n",
    "numeric_col_std = all_dummy_df.loc[:, numeric_cols].std()\n",
    "all_dummy_df.loc[:, numeric_cols] = (all_dummy_df.loc[:, numeric_cols] - numeric_col_means) / numeric_col_std"
   ]
  },
  {
   "cell_type": "code",
   "execution_count": 40,
   "id": "4623d583",
   "metadata": {},
   "outputs": [],
   "source": [
    "dummy_train_df = all_dummy_df.loc[train_df.index]\n",
    "dummy_test_df = all_dummy_df.loc[test_df.index]"
   ]
  },
  {
   "cell_type": "code",
   "execution_count": 41,
   "id": "c5c0b114",
   "metadata": {},
   "outputs": [],
   "source": [
    "X_train = dummy_train_df.values\n",
    "X_test = dummy_test_df.values"
   ]
  },
  {
   "cell_type": "markdown",
   "id": "damaged-warrant",
   "metadata": {},
   "source": [
    "Ridge回归"
   ]
  },
  {
   "cell_type": "code",
   "execution_count": 42,
   "id": "northern-classroom",
   "metadata": {},
   "outputs": [
    {
     "data": {
      "image/png": "[encoded data removed]",
      "text/plain": [
       "<Figure size 432x288 with 1 Axes>"
      ]
     },
     "metadata": {
      "needs_background": "light"
     },
     "output_type": "display_data"
    }
   ],
   "source": [
    "from sklearn.linear_model import Ridge\n",
    "from sklearn.model_selection import cross_val_score\n",
    "alphas = np.logspace(-2, 4, 50)\n",
    "test_scores = []\n",
    "for alpha in alphas:\n",
    "    clf = Ridge(alpha)\n",
    "    test_score = np.sqrt(-cross_val_score(clf, X_train, y_train, cv=10, scoring='neg_mean_squared_error'))\n",
    "    test_scores.append(np.mean(test_score))\n",
    "import matplotlib.pyplot as plt\n",
    "%matplotlib inline\n",
    "#my_y_ticks = np.arange(0, 1, 1e-8)\n",
    "#plt.yticks(my_y_ticks)\n",
    "plt.plot(alphas, test_scores)\n",
    "plt.title(\"Alpha vs CV Error\");"
   ]
  },
  {
   "cell_type": "markdown",
   "id": "second-stream",
   "metadata": {},
   "source": [
    "随机树"
   ]
  },
  {
   "cell_type": "code",
   "execution_count": 43,
   "id": "cfee568e",
   "metadata": {},
   "outputs": [],
   "source": [
    "# from sklearn.ensemble import RandomForestRegressor\n",
    "# from sklearn.model_selection import cross_val_score\n",
    "# max_features = [.1, .3, .5, .7, .9, .99]\n",
    "# test_scores = []\n",
    "# for max_feat in max_features:\n",
    "#     clf = RandomForestRegressor(n_estimators=200, max_features=max_feat)\n",
    "#     test_score = np.sqrt(-cross_val_score(clf, X_train, y_train, cv=5, scoring='neg_mean_squared_error'))\n",
    "#     test_scores.append(np.mean(test_score))\n",
    "# plt.plot(max_features, test_scores)\n",
    "# plt.title(\"Max Features vs CV Error\");"
   ]
  },
  {
   "cell_type": "markdown",
   "id": "tight-gallery",
   "metadata": {},
   "source": [
    "XGB"
   ]
  },
  {
   "cell_type": "code",
   "execution_count": 44,
   "id": "comprehensive-listing",
   "metadata": {},
   "outputs": [
    {
     "data": {
      "image/png": "[encoded data removed]",
      "text/plain": [
       "<Figure size 432x288 with 1 Axes>"
      ]
     },
     "metadata": {
      "needs_background": "light"
     },
     "output_type": "display_data"
    }
   ],
   "source": [
    "from xgboost import XGBRegressor\n",
    "from sklearn.model_selection import cross_val_score\n",
    "params = [5,6,7,8,9,10]\n",
    "test_scores = []\n",
    "for param in params:\n",
    "    clf = XGBRegressor(max_depth=param)\n",
    "    test_score = np.sqrt(-cross_val_score(clf, X_train, y_train, cv=10, scoring='neg_mean_squared_error'))\n",
    "    test_scores.append(np.mean(test_score))\n",
    "import matplotlib.pyplot as plt\n",
    "%matplotlib inline\n",
    "plt.plot(params, test_scores)\n",
    "plt.title(\"max_depth vs CV Error\");"
   ]
  },
  {
   "cell_type": "markdown",
   "id": "motivated-composition",
   "metadata": {},
   "source": [
    "Bagging把很多的小分类器放在一起，每个train随机的一部分数据，然后把它们的最终结果综合起来（多数投票制）\n",
    "决策树"
   ]
  },
  {
   "cell_type": "code",
   "execution_count": 45,
   "id": "minor-cliff",
   "metadata": {},
   "outputs": [
    {
     "data": {
      "image/png": "[encoded data removed]",
      "text/plain": [
       "<Figure size 432x288 with 1 Axes>"
      ]
     },
     "metadata": {
      "needs_background": "light"
     },
     "output_type": "display_data"
    }
   ],
   "source": [
    "from sklearn.ensemble import AdaBoostRegressor\n",
    "from sklearn.model_selection import cross_val_score\n",
    "params = [10, 15, 20, 25, 30, 35, 40, 45, 50]\n",
    "test_scores = []\n",
    "for param in params:\n",
    "    clf = AdaBoostRegressor(n_estimators=param)\n",
    "    test_score = np.sqrt(-cross_val_score(clf, X_train, y_train, cv=10, scoring='neg_mean_squared_error'))\n",
    "    test_scores.append(np.mean(test_score))\n",
    "import matplotlib.pyplot as plt\n",
    "%matplotlib inline\n",
    "plt.plot(params, test_scores)\n",
    "plt.title(\"n_estimator vs CV Error\");"
   ]
  },
  {
   "cell_type": "markdown",
   "id": "heavy-midwest",
   "metadata": {},
   "source": [
    "#### Boosting\n",
    "Boosting比Bagging理论上更高级点，它也是揽来一把的分类器。但是把他们线性排列。下一个分类器把上一个分类器分类得不好的地方加上更高的权重"
   ]
  },
  {
   "cell_type": "code",
   "execution_count": 46,
   "id": "numerical-northwest",
   "metadata": {},
   "outputs": [
    {
     "data": {
      "image/png": "[encoded data removed]",
      "text/plain": [
       "<Figure size 432x288 with 1 Axes>"
      ]
     },
     "metadata": {
      "needs_background": "light"
     },
     "output_type": "display_data"
    }
   ],
   "source": [
    "from sklearn.ensemble import AdaBoostRegressor\n",
    "from sklearn.model_selection import cross_val_score\n",
    "params = [10, 15, 20, 25, 30, 35, 40, 45, 50]\n",
    "test_scores = []\n",
    "for param in params:\n",
    "    clf =AdaBoostRegressor(n_estimators=param)\n",
    "    test_score = np.sqrt(-cross_val_score(clf, X_train, y_train, cv=10, scoring='neg_mean_squared_error'))\n",
    "    test_scores.append(np.mean(test_score))\n",
    "plt.plot(params, test_scores)\n",
    "plt.title(\"n_estimator vs CV Error\");"
   ]
  },
  {
   "cell_type": "code",
   "execution_count": 50,
   "id": "naval-highway",
   "metadata": {},
   "outputs": [],
   "source": [
    "clf = XGBRegressor(max_depth=8)\n",
    "clf.fit(X_train,y_train)\n",
    "y_reslut = np.expm1(clf.predict(X_test))"
   ]
  },
  {
   "cell_type": "code",
   "execution_count": 52,
   "id": "through-restaurant",
   "metadata": {},
   "outputs": [],
   "source": [
    "submission_df = pd.DataFrame(data= {'id' : test_df.index, 'trip_duration': y_reslut})"
   ]
  },
  {
   "cell_type": "code",
   "execution_count": 53,
   "id": "connected-cinema",
   "metadata": {},
   "outputs": [
    {
     "data": {
      "text/html": [
       "<div>\n",
       "<style scoped>\n",
       "    .dataframe tbody tr th:only-of-type {\n",
       "        vertical-align: middle;\n",
       "    }\n",
       "\n",
       "    .dataframe tbody tr th {\n",
       "        vertical-align: top;\n",
       "    }\n",
       "\n",
       "    .dataframe thead th {\n",
       "        text-align: right;\n",
       "    }\n",
       "</style>\n",
       "<table border=\"1\" class=\"dataframe\">\n",
       "  <thead>\n",
       "    <tr style=\"text-align: right;\">\n",
       "      <th></th>\n",
       "      <th>id</th>\n",
       "      <th>trip_duration</th>\n",
       "    </tr>\n",
       "  </thead>\n",
       "  <tbody>\n",
       "    <tr>\n",
       "      <th>0</th>\n",
       "      <td>id3004672</td>\n",
       "      <td>805.606750</td>\n",
       "    </tr>\n",
       "    <tr>\n",
       "      <th>1</th>\n",
       "      <td>id3505355</td>\n",
       "      <td>634.686646</td>\n",
       "    </tr>\n",
       "    <tr>\n",
       "      <th>2</th>\n",
       "      <td>id1217141</td>\n",
       "      <td>411.860168</td>\n",
       "    </tr>\n",
       "    <tr>\n",
       "      <th>3</th>\n",
       "      <td>id2150126</td>\n",
       "      <td>1210.004517</td>\n",
       "    </tr>\n",
       "    <tr>\n",
       "      <th>4</th>\n",
       "      <td>id1598245</td>\n",
       "      <td>468.200226</td>\n",
       "    </tr>\n",
       "    <tr>\n",
       "      <th>...</th>\n",
       "      <td>...</td>\n",
       "      <td>...</td>\n",
       "    </tr>\n",
       "    <tr>\n",
       "      <th>625129</th>\n",
       "      <td>id3008929</td>\n",
       "      <td>408.335052</td>\n",
       "    </tr>\n",
       "    <tr>\n",
       "      <th>625130</th>\n",
       "      <td>id3700764</td>\n",
       "      <td>1031.720581</td>\n",
       "    </tr>\n",
       "    <tr>\n",
       "      <th>625131</th>\n",
       "      <td>id2568735</td>\n",
       "      <td>566.284424</td>\n",
       "    </tr>\n",
       "    <tr>\n",
       "      <th>625132</th>\n",
       "      <td>id1384355</td>\n",
       "      <td>2157.403320</td>\n",
       "    </tr>\n",
       "    <tr>\n",
       "      <th>625133</th>\n",
       "      <td>id0621643</td>\n",
       "      <td>1455.053467</td>\n",
       "    </tr>\n",
       "  </tbody>\n",
       "</table>\n",
       "<p>625134 rows × 2 columns</p>\n",
       "</div>"
      ],
      "text/plain": [
       "               id  trip_duration\n",
       "0       id3004672     805.606750\n",
       "1       id3505355     634.686646\n",
       "2       id1217141     411.860168\n",
       "3       id2150126    1210.004517\n",
       "4       id1598245     468.200226\n",
       "...           ...            ...\n",
       "625129  id3008929     408.335052\n",
       "625130  id3700764    1031.720581\n",
       "625131  id2568735     566.284424\n",
       "625132  id1384355    2157.403320\n",
       "625133  id0621643    1455.053467\n",
       "\n",
       "[625134 rows x 2 columns]"
      ]
     },
     "execution_count": 53,
     "metadata": {},
     "output_type": "execute_result"
    }
   ],
   "source": [
    "submission_df"
   ]
  },
  {
   "cell_type": "code",
   "execution_count": 69,
   "id": "ignored-regular",
   "metadata": {},
   "outputs": [],
   "source": [
    "import csv\n",
    "submission_df.to_csv('results.csv',index = False)"
   ]
  }
 ],
 "metadata": {
  "kernelspec": {
   "display_name": "Python [conda env:pytorch] *",
   "language": "python",
   "name": "conda-env-pytorch-py"
  },
  "language_info": {
   "codemirror_mode": {
    "name": "ipython",
    "version": 3
   },
   "file_extension": ".py",
   "mimetype": "text/x-python",
   "name": "python",
   "nbconvert_exporter": "python",
   "pygments_lexer": "ipython3",
   "version": "3.6.13"
  }
 },
 "nbformat": 4,
 "nbformat_minor": 5
}
